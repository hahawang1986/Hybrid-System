{
 "cells": [
  {
   "cell_type": "code",
   "execution_count": 1,
   "metadata": {},
   "outputs": [
    {
     "name": "stderr",
     "output_type": "stream",
     "text": [
      "C:\\Users\\nining\\AppData\\Local\\Temp\\ipykernel_10268\\2844815712.py:4: DeprecationWarning: \n",
      "Pyarrow will become a required dependency of pandas in the next major release of pandas (pandas 3.0),\n",
      "(to allow more performant data types, such as the Arrow string type, and better interoperability with other libraries)\n",
      "but was not found to be installed on your system.\n",
      "If this would cause problems for you,\n",
      "please provide us feedback at https://github.com/pandas-dev/pandas/issues/54466\n",
      "        \n",
      "  import pandas as pd\n"
     ]
    }
   ],
   "source": [
    "from sklearn.preprocessing import MinMaxScaler\n",
    "from sklearn.preprocessing import StandardScaler\n",
    "import numpy as np\n",
    "import pandas as pd\n",
    "import matplotlib.pyplot as plt\n",
    "import seaborn as sns\n",
    "from scipy.stats import chi2_contingency\n",
    "import math\n",
    "\n",
    "from sklearn.metrics import mean_squared_error \n",
    "from sklearn.metrics import mean_absolute_error \n",
    "from sklearn.metrics import r2_score \n",
    "from sklearn.ensemble import RandomForestRegressor\n",
    "from sklearn.ensemble import RandomForestClassifier\n",
    "from sklearn.tree import DecisionTreeRegressor\n",
    "from sklearn.model_selection import train_test_split,cross_val_score, KFold,validation_curve,GridSearchCV\n",
    "from sklearn.preprocessing import LabelEncoder\n",
    "\n",
    "import joblib\n",
    "from datetime import datetime\n",
    "\n",
    "\n",
    "import ModelFunctions"
   ]
  },
  {
   "cell_type": "code",
   "execution_count": 2,
   "metadata": {},
   "outputs": [
    {
     "name": "stdout",
     "output_type": "stream",
     "text": [
      "#######  FSO_Att Data Set  ######\n",
      "FSO_Att Training set feature count: (63965, 24)\n",
      "FSO_Att Validation set feature count: (27414, 24)\n",
      "FSO_Att Training set label count: (63965,)\n",
      "FSO_Att Validation set label count: (27414,)\n",
      "#######  RFL_Att Data Set  ######\n",
      "RFL_Att Training set feature count: (63965, 25)\n",
      "RFL_Att Validation set feature count: (27414, 25)\n",
      "RFL_Att Training set label count: (63965,)\n",
      "RFL_Att Validation set label count: (27414,)\n"
     ]
    }
   ],
   "source": [
    "data = pd.read_csv(\"data_pre_process.csv\")\n",
    "\n",
    "Xtrain_fso, Xval_fso, Xtest_fso, Ytrain_fso, Yval_fso, Ytest_fso = \\\n",
    "    ModelFunctions.split_data1(data, \"FSO_Att\",drop_column = [\"Frequency\",'RFL_Att']) # Frequency doesn't relate to FSO_Att\n",
    "\n",
    "Xtrain_rfl, Xval_rfl, Xtest_rfl, Ytrain_rfl, Yval_rfl, Ytest_rfl = \\\n",
    "    ModelFunctions.split_data1(data, \"RFL_Att\",drop_column = ['FSO_Att'])\n",
    "\n",
    "\n",
    "\n"
   ]
  },
  {
   "cell_type": "code",
   "execution_count": 4,
   "metadata": {},
   "outputs": [
    {
     "data": {
      "text/plain": [
       "Index(['AbsoluteHumidity', 'AbsoluteHumidityMax', 'AbsoluteHumidityMin',\n",
       "       'Distance', 'Frequency', 'Particulate', 'ParticulateMax',\n",
       "       'ParticulateMin', 'RainIntensity', 'RainIntensityMax',\n",
       "       'RainIntensityMin', 'RelativeHumidity', 'SYNOPCode', 'Temperature',\n",
       "       'TemperatureDifference', 'TemperatureMax', 'TemperatureMin', 'Time',\n",
       "       'Visibility', 'VisibilityMax', 'VisibilityMin', 'WindDirection',\n",
       "       'WindSpeed', 'WindSpeedMax', 'WindSpeedMin'],\n",
       "      dtype='object')"
      ]
     },
     "execution_count": 4,
     "metadata": {},
     "output_type": "execute_result"
    }
   ],
   "source": [
    "Xtrain_rfl.columns"
   ]
  },
  {
   "cell_type": "code",
   "execution_count": 5,
   "metadata": {},
   "outputs": [
    {
     "data": {
      "text/plain": [
       "{0, 3, 4, 5, 6, 7, 8}"
      ]
     },
     "execution_count": 5,
     "metadata": {},
     "output_type": "execute_result"
    }
   ],
   "source": [
    "set(data['SYNOPCode'])"
   ]
  },
  {
   "cell_type": "code",
   "execution_count": null,
   "metadata": {},
   "outputs": [],
   "source": [
    "\n",
    "            # sorted_features, sorted_importance = \\\n",
    "            #     sort_features(model,Xtrain,channel = \"FSO\",figure = False)\n"
   ]
  },
  {
   "cell_type": "code",
   "execution_count": 3,
   "metadata": {},
   "outputs": [
    {
     "name": "stderr",
     "output_type": "stream",
     "text": [
      "c:\\Users\\nining\\.conda\\envs\\bigdata\\lib\\site-packages\\sklearn\\metrics\\_regression.py:483: FutureWarning: 'squared' is deprecated in version 1.4 and will be removed in 1.6. To calculate the root mean squared error, use the function'root_mean_squared_error'.\n",
      "  warnings.warn(\n",
      "c:\\Users\\nining\\.conda\\envs\\bigdata\\lib\\site-packages\\sklearn\\metrics\\_regression.py:483: FutureWarning: 'squared' is deprecated in version 1.4 and will be removed in 1.6. To calculate the root mean squared error, use the function'root_mean_squared_error'.\n",
      "  warnings.warn(\n"
     ]
    },
    {
     "name": "stdout",
     "output_type": "stream",
     "text": [
      "Training RMSE: 0.19801796694680984\n",
      "Validation RMSE: 0.5060067721023563\n",
      "Train R²: 0.9966765675677622\n",
      "Validation R²: 0.9784647932420589\n",
      "OOB R²: 0.9761913367317926\n",
      "1 WindDirection ['WindSpeedMin', 'WindSpeed', 'WindSpeedMax', 'ParticulateMin', 'TemperatureMin', 'TemperatureMax', 'Particulate', 'VisibilityMin', 'AbsoluteHumidityMax', 'TemperatureDifference', 'VisibilityMax', 'AbsoluteHumidityMin', 'Time', 'Visibility', 'Frequency', 'ParticulateMax', 'RelativeHumidity', 'SYNOPCode', 'Temperature', 'RainIntensityMin', 'RainIntensityMax', 'RainIntensity', 'Distance', 'AbsoluteHumidity']\n",
      "%%%%%%%%%%%%%%%%%%%%%%%%%%%%\n"
     ]
    },
    {
     "name": "stderr",
     "output_type": "stream",
     "text": [
      "c:\\Users\\nining\\.conda\\envs\\bigdata\\lib\\site-packages\\sklearn\\metrics\\_regression.py:483: FutureWarning: 'squared' is deprecated in version 1.4 and will be removed in 1.6. To calculate the root mean squared error, use the function'root_mean_squared_error'.\n",
      "  warnings.warn(\n",
      "c:\\Users\\nining\\.conda\\envs\\bigdata\\lib\\site-packages\\sklearn\\metrics\\_regression.py:483: FutureWarning: 'squared' is deprecated in version 1.4 and will be removed in 1.6. To calculate the root mean squared error, use the function'root_mean_squared_error'.\n",
      "  warnings.warn(\n"
     ]
    },
    {
     "name": "stdout",
     "output_type": "stream",
     "text": [
      "Training RMSE: 0.19667473185131315\n",
      "Validation RMSE: 0.5018527256446286\n",
      "Train R²: 0.9967215029853677\n",
      "Validation R²: 0.9788169270550378\n",
      "OOB R²: 0.9764531771826958\n",
      "2 WindSpeed ['WindSpeedMin', 'WindSpeedMax', 'ParticulateMin', 'TemperatureMin', 'TemperatureMax', 'Particulate', 'VisibilityMin', 'AbsoluteHumidityMax', 'TemperatureDifference', 'VisibilityMax', 'AbsoluteHumidityMin', 'Time', 'Visibility', 'Frequency', 'ParticulateMax', 'RelativeHumidity', 'SYNOPCode', 'Temperature', 'RainIntensityMin', 'RainIntensityMax', 'RainIntensity', 'Distance', 'AbsoluteHumidity']\n",
      "%%%%%%%%%%%%%%%%%%%%%%%%%%%%\n"
     ]
    },
    {
     "name": "stderr",
     "output_type": "stream",
     "text": [
      "c:\\Users\\nining\\.conda\\envs\\bigdata\\lib\\site-packages\\sklearn\\metrics\\_regression.py:483: FutureWarning: 'squared' is deprecated in version 1.4 and will be removed in 1.6. To calculate the root mean squared error, use the function'root_mean_squared_error'.\n",
      "  warnings.warn(\n",
      "c:\\Users\\nining\\.conda\\envs\\bigdata\\lib\\site-packages\\sklearn\\metrics\\_regression.py:483: FutureWarning: 'squared' is deprecated in version 1.4 and will be removed in 1.6. To calculate the root mean squared error, use the function'root_mean_squared_error'.\n",
      "  warnings.warn(\n"
     ]
    },
    {
     "name": "stdout",
     "output_type": "stream",
     "text": [
      "Training RMSE: 0.19764010423187525\n",
      "Validation RMSE: 0.5040244278543269\n",
      "Train R²: 0.9966892391757567\n",
      "Validation R²: 0.9786331964079218\n",
      "OOB R²: 0.9762618111578466\n",
      "3 WindSpeedMin ['WindSpeedMax', 'ParticulateMin', 'TemperatureMin', 'TemperatureMax', 'Particulate', 'VisibilityMin', 'TemperatureDifference', 'AbsoluteHumidityMax', 'VisibilityMax', 'AbsoluteHumidityMin', 'Time', 'Visibility', 'Frequency', 'ParticulateMax', 'RelativeHumidity', 'SYNOPCode', 'Temperature', 'RainIntensityMin', 'RainIntensityMax', 'RainIntensity', 'Distance', 'AbsoluteHumidity']\n",
      "%%%%%%%%%%%%%%%%%%%%%%%%%%%%\n"
     ]
    },
    {
     "name": "stderr",
     "output_type": "stream",
     "text": [
      "c:\\Users\\nining\\.conda\\envs\\bigdata\\lib\\site-packages\\sklearn\\metrics\\_regression.py:483: FutureWarning: 'squared' is deprecated in version 1.4 and will be removed in 1.6. To calculate the root mean squared error, use the function'root_mean_squared_error'.\n",
      "  warnings.warn(\n",
      "c:\\Users\\nining\\.conda\\envs\\bigdata\\lib\\site-packages\\sklearn\\metrics\\_regression.py:483: FutureWarning: 'squared' is deprecated in version 1.4 and will be removed in 1.6. To calculate the root mean squared error, use the function'root_mean_squared_error'.\n",
      "  warnings.warn(\n"
     ]
    },
    {
     "name": "stdout",
     "output_type": "stream",
     "text": [
      "Training RMSE: 0.1965783533325726\n",
      "Validation RMSE: 0.5062475110770273\n",
      "Train R²: 0.9967247153885306\n",
      "Validation R²: 0.9784442970861075\n",
      "OOB R²: 0.9765688065262103\n",
      "4 ParticulateMin ['WindSpeedMax', 'TemperatureMin', 'TemperatureMax', 'Particulate', 'VisibilityMin', 'AbsoluteHumidityMax', 'TemperatureDifference', 'VisibilityMax', 'AbsoluteHumidityMin', 'Time', 'Visibility', 'Frequency', 'ParticulateMax', 'RelativeHumidity', 'SYNOPCode', 'Temperature', 'RainIntensityMin', 'RainIntensityMax', 'RainIntensity', 'Distance', 'AbsoluteHumidity']\n",
      "%%%%%%%%%%%%%%%%%%%%%%%%%%%%\n"
     ]
    },
    {
     "name": "stderr",
     "output_type": "stream",
     "text": [
      "c:\\Users\\nining\\.conda\\envs\\bigdata\\lib\\site-packages\\sklearn\\metrics\\_regression.py:483: FutureWarning: 'squared' is deprecated in version 1.4 and will be removed in 1.6. To calculate the root mean squared error, use the function'root_mean_squared_error'.\n",
      "  warnings.warn(\n",
      "c:\\Users\\nining\\.conda\\envs\\bigdata\\lib\\site-packages\\sklearn\\metrics\\_regression.py:483: FutureWarning: 'squared' is deprecated in version 1.4 and will be removed in 1.6. To calculate the root mean squared error, use the function'root_mean_squared_error'.\n",
      "  warnings.warn(\n"
     ]
    },
    {
     "name": "stdout",
     "output_type": "stream",
     "text": [
      "Training RMSE: 0.19735249237120475\n",
      "Validation RMSE: 0.5078080107264603\n",
      "Train R²: 0.9966988680032582\n",
      "Validation R²: 0.9783112020688227\n",
      "OOB R²: 0.9763181736721089\n",
      "5 WindSpeedMax ['TemperatureMin', 'TemperatureMax', 'VisibilityMin', 'AbsoluteHumidityMax', 'TemperatureDifference', 'Particulate', 'AbsoluteHumidityMin', 'VisibilityMax', 'Time', 'Visibility', 'Frequency', 'ParticulateMax', 'RelativeHumidity', 'SYNOPCode', 'Temperature', 'RainIntensityMin', 'RainIntensityMax', 'RainIntensity', 'Distance', 'AbsoluteHumidity']\n",
      "%%%%%%%%%%%%%%%%%%%%%%%%%%%%\n"
     ]
    },
    {
     "name": "stderr",
     "output_type": "stream",
     "text": [
      "c:\\Users\\nining\\.conda\\envs\\bigdata\\lib\\site-packages\\sklearn\\metrics\\_regression.py:483: FutureWarning: 'squared' is deprecated in version 1.4 and will be removed in 1.6. To calculate the root mean squared error, use the function'root_mean_squared_error'.\n",
      "  warnings.warn(\n",
      "c:\\Users\\nining\\.conda\\envs\\bigdata\\lib\\site-packages\\sklearn\\metrics\\_regression.py:483: FutureWarning: 'squared' is deprecated in version 1.4 and will be removed in 1.6. To calculate the root mean squared error, use the function'root_mean_squared_error'.\n",
      "  warnings.warn(\n"
     ]
    },
    {
     "name": "stdout",
     "output_type": "stream",
     "text": [
      "Training RMSE: 0.19588668908725196\n",
      "Validation RMSE: 0.503310523517427\n",
      "Train R²: 0.9967477231287163\n",
      "Validation R²: 0.9786936817735741\n",
      "OOB R²: 0.9767481183119608\n",
      "6 TemperatureMin ['TemperatureMax', 'VisibilityMin', 'Particulate', 'AbsoluteHumidityMax', 'TemperatureDifference', 'AbsoluteHumidityMin', 'VisibilityMax', 'Time', 'Visibility', 'Frequency', 'ParticulateMax', 'RelativeHumidity', 'SYNOPCode', 'Temperature', 'RainIntensityMin', 'RainIntensityMax', 'RainIntensity', 'Distance', 'AbsoluteHumidity']\n",
      "%%%%%%%%%%%%%%%%%%%%%%%%%%%%\n"
     ]
    },
    {
     "name": "stderr",
     "output_type": "stream",
     "text": [
      "c:\\Users\\nining\\.conda\\envs\\bigdata\\lib\\site-packages\\sklearn\\metrics\\_regression.py:483: FutureWarning: 'squared' is deprecated in version 1.4 and will be removed in 1.6. To calculate the root mean squared error, use the function'root_mean_squared_error'.\n",
      "  warnings.warn(\n",
      "c:\\Users\\nining\\.conda\\envs\\bigdata\\lib\\site-packages\\sklearn\\metrics\\_regression.py:483: FutureWarning: 'squared' is deprecated in version 1.4 and will be removed in 1.6. To calculate the root mean squared error, use the function'root_mean_squared_error'.\n",
      "  warnings.warn(\n"
     ]
    },
    {
     "name": "stdout",
     "output_type": "stream",
     "text": [
      "Training RMSE: 0.1942689872756457\n",
      "Validation RMSE: 0.497715973300323\n",
      "Train R²: 0.9968012182357476\n",
      "Validation R²: 0.9791647102212031\n",
      "OOB R²: 0.9770906828999659\n",
      "7 TemperatureMax ['VisibilityMin', 'AbsoluteHumidityMax', 'Particulate', 'TemperatureDifference', 'VisibilityMax', 'AbsoluteHumidityMin', 'Time', 'Visibility', 'Frequency', 'ParticulateMax', 'RelativeHumidity', 'SYNOPCode', 'Temperature', 'RainIntensityMin', 'RainIntensityMax', 'RainIntensity', 'Distance', 'AbsoluteHumidity']\n",
      "%%%%%%%%%%%%%%%%%%%%%%%%%%%%\n"
     ]
    },
    {
     "name": "stderr",
     "output_type": "stream",
     "text": [
      "c:\\Users\\nining\\.conda\\envs\\bigdata\\lib\\site-packages\\sklearn\\metrics\\_regression.py:483: FutureWarning: 'squared' is deprecated in version 1.4 and will be removed in 1.6. To calculate the root mean squared error, use the function'root_mean_squared_error'.\n",
      "  warnings.warn(\n",
      "c:\\Users\\nining\\.conda\\envs\\bigdata\\lib\\site-packages\\sklearn\\metrics\\_regression.py:483: FutureWarning: 'squared' is deprecated in version 1.4 and will be removed in 1.6. To calculate the root mean squared error, use the function'root_mean_squared_error'.\n",
      "  warnings.warn(\n"
     ]
    },
    {
     "name": "stdout",
     "output_type": "stream",
     "text": [
      "Training RMSE: 0.19148105593782033\n",
      "Validation RMSE: 0.4949278297732967\n",
      "Train R²: 0.9968923701337374\n",
      "Validation R²: 0.9793974898382841\n",
      "OOB R²: 0.9777349349230774\n",
      "8 Particulate ['VisibilityMin', 'AbsoluteHumidityMax', 'TemperatureDifference', 'VisibilityMax', 'AbsoluteHumidityMin', 'Time', 'Visibility', 'Frequency', 'ParticulateMax', 'RelativeHumidity', 'SYNOPCode', 'Temperature', 'RainIntensityMin', 'RainIntensityMax', 'RainIntensity', 'Distance', 'AbsoluteHumidity']\n",
      "%%%%%%%%%%%%%%%%%%%%%%%%%%%%\n"
     ]
    },
    {
     "name": "stderr",
     "output_type": "stream",
     "text": [
      "c:\\Users\\nining\\.conda\\envs\\bigdata\\lib\\site-packages\\sklearn\\metrics\\_regression.py:483: FutureWarning: 'squared' is deprecated in version 1.4 and will be removed in 1.6. To calculate the root mean squared error, use the function'root_mean_squared_error'.\n",
      "  warnings.warn(\n",
      "c:\\Users\\nining\\.conda\\envs\\bigdata\\lib\\site-packages\\sklearn\\metrics\\_regression.py:483: FutureWarning: 'squared' is deprecated in version 1.4 and will be removed in 1.6. To calculate the root mean squared error, use the function'root_mean_squared_error'.\n",
      "  warnings.warn(\n"
     ]
    },
    {
     "name": "stdout",
     "output_type": "stream",
     "text": [
      "Training RMSE: 0.19059040279139874\n",
      "Validation RMSE: 0.4923941974843848\n",
      "Train R²: 0.996921212498308\n",
      "Validation R²: 0.9796078864776785\n",
      "OOB R²: 0.9779644322474145\n",
      "9 VisibilityMin ['AbsoluteHumidityMax', 'TemperatureDifference', 'VisibilityMax', 'AbsoluteHumidityMin', 'Time', 'Visibility', 'Frequency', 'RelativeHumidity', 'ParticulateMax', 'SYNOPCode', 'Temperature', 'RainIntensityMin', 'RainIntensityMax', 'RainIntensity', 'Distance', 'AbsoluteHumidity']\n",
      "%%%%%%%%%%%%%%%%%%%%%%%%%%%%\n"
     ]
    },
    {
     "name": "stderr",
     "output_type": "stream",
     "text": [
      "c:\\Users\\nining\\.conda\\envs\\bigdata\\lib\\site-packages\\sklearn\\metrics\\_regression.py:483: FutureWarning: 'squared' is deprecated in version 1.4 and will be removed in 1.6. To calculate the root mean squared error, use the function'root_mean_squared_error'.\n",
      "  warnings.warn(\n",
      "c:\\Users\\nining\\.conda\\envs\\bigdata\\lib\\site-packages\\sklearn\\metrics\\_regression.py:483: FutureWarning: 'squared' is deprecated in version 1.4 and will be removed in 1.6. To calculate the root mean squared error, use the function'root_mean_squared_error'.\n",
      "  warnings.warn(\n"
     ]
    },
    {
     "name": "stdout",
     "output_type": "stream",
     "text": [
      "Training RMSE: 0.19036686800846708\n",
      "Validation RMSE: 0.49121891580443044\n",
      "Train R²: 0.9969284302017936\n",
      "Validation R²: 0.9797051170100836\n",
      "OOB R²: 0.977910161634914\n",
      "10 AbsoluteHumidityMax ['TemperatureDifference', 'AbsoluteHumidityMin', 'Time', 'VisibilityMax', 'Frequency', 'Visibility', 'RelativeHumidity', 'ParticulateMax', 'SYNOPCode', 'Temperature', 'RainIntensityMin', 'RainIntensityMax', 'RainIntensity', 'Distance', 'AbsoluteHumidity']\n",
      "%%%%%%%%%%%%%%%%%%%%%%%%%%%%\n"
     ]
    },
    {
     "name": "stderr",
     "output_type": "stream",
     "text": [
      "c:\\Users\\nining\\.conda\\envs\\bigdata\\lib\\site-packages\\sklearn\\metrics\\_regression.py:483: FutureWarning: 'squared' is deprecated in version 1.4 and will be removed in 1.6. To calculate the root mean squared error, use the function'root_mean_squared_error'.\n",
      "  warnings.warn(\n",
      "c:\\Users\\nining\\.conda\\envs\\bigdata\\lib\\site-packages\\sklearn\\metrics\\_regression.py:483: FutureWarning: 'squared' is deprecated in version 1.4 and will be removed in 1.6. To calculate the root mean squared error, use the function'root_mean_squared_error'.\n",
      "  warnings.warn(\n"
     ]
    },
    {
     "name": "stdout",
     "output_type": "stream",
     "text": [
      "Training RMSE: 0.1883535166359442\n",
      "Validation RMSE: 0.4831973834049752\n",
      "Train R²: 0.9969930574874384\n",
      "Validation R²: 0.9803625299818687\n",
      "OOB R²: 0.9784135683992414\n",
      "11 TemperatureDifference ['AbsoluteHumidityMin', 'Time', 'VisibilityMax', 'Frequency', 'Visibility', 'RelativeHumidity', 'ParticulateMax', 'SYNOPCode', 'Temperature', 'RainIntensityMin', 'RainIntensityMax', 'RainIntensity', 'Distance', 'AbsoluteHumidity']\n",
      "%%%%%%%%%%%%%%%%%%%%%%%%%%%%\n"
     ]
    },
    {
     "name": "stderr",
     "output_type": "stream",
     "text": [
      "c:\\Users\\nining\\.conda\\envs\\bigdata\\lib\\site-packages\\sklearn\\metrics\\_regression.py:483: FutureWarning: 'squared' is deprecated in version 1.4 and will be removed in 1.6. To calculate the root mean squared error, use the function'root_mean_squared_error'.\n",
      "  warnings.warn(\n",
      "c:\\Users\\nining\\.conda\\envs\\bigdata\\lib\\site-packages\\sklearn\\metrics\\_regression.py:483: FutureWarning: 'squared' is deprecated in version 1.4 and will be removed in 1.6. To calculate the root mean squared error, use the function'root_mean_squared_error'.\n",
      "  warnings.warn(\n"
     ]
    },
    {
     "name": "stdout",
     "output_type": "stream",
     "text": [
      "Training RMSE: 0.19721314201125048\n",
      "Validation RMSE: 0.5060199154565413\n",
      "Train R²: 0.9967035282081418\n",
      "Validation R²: 0.978463674488155\n",
      "OOB R²: 0.9763613377350893\n",
      "12 AbsoluteHumidityMin ['Time', 'VisibilityMax', 'Frequency', 'Visibility', 'RelativeHumidity', 'ParticulateMax', 'SYNOPCode', 'Temperature', 'RainIntensityMin', 'RainIntensityMax', 'RainIntensity', 'Distance', 'AbsoluteHumidity']\n",
      "%%%%%%%%%%%%%%%%%%%%%%%%%%%%\n"
     ]
    },
    {
     "name": "stderr",
     "output_type": "stream",
     "text": [
      "c:\\Users\\nining\\.conda\\envs\\bigdata\\lib\\site-packages\\sklearn\\metrics\\_regression.py:483: FutureWarning: 'squared' is deprecated in version 1.4 and will be removed in 1.6. To calculate the root mean squared error, use the function'root_mean_squared_error'.\n",
      "  warnings.warn(\n",
      "c:\\Users\\nining\\.conda\\envs\\bigdata\\lib\\site-packages\\sklearn\\metrics\\_regression.py:483: FutureWarning: 'squared' is deprecated in version 1.4 and will be removed in 1.6. To calculate the root mean squared error, use the function'root_mean_squared_error'.\n",
      "  warnings.warn(\n"
     ]
    },
    {
     "name": "stdout",
     "output_type": "stream",
     "text": [
      "Training RMSE: 0.19359240174522604\n",
      "Validation RMSE: 0.4974501568247036\n",
      "Train R²: 0.9968234603933223\n",
      "Validation R²: 0.9791869593940263\n",
      "OOB R²: 0.9772181219105698\n",
      "13 Time ['VisibilityMax', 'Frequency', 'Visibility', 'RelativeHumidity', 'ParticulateMax', 'SYNOPCode', 'Temperature', 'RainIntensityMin', 'RainIntensityMax', 'RainIntensity', 'Distance', 'AbsoluteHumidity']\n",
      "%%%%%%%%%%%%%%%%%%%%%%%%%%%%\n"
     ]
    },
    {
     "name": "stderr",
     "output_type": "stream",
     "text": [
      "c:\\Users\\nining\\.conda\\envs\\bigdata\\lib\\site-packages\\sklearn\\metrics\\_regression.py:483: FutureWarning: 'squared' is deprecated in version 1.4 and will be removed in 1.6. To calculate the root mean squared error, use the function'root_mean_squared_error'.\n",
      "  warnings.warn(\n",
      "c:\\Users\\nining\\.conda\\envs\\bigdata\\lib\\site-packages\\sklearn\\metrics\\_regression.py:483: FutureWarning: 'squared' is deprecated in version 1.4 and will be removed in 1.6. To calculate the root mean squared error, use the function'root_mean_squared_error'.\n",
      "  warnings.warn(\n"
     ]
    },
    {
     "name": "stdout",
     "output_type": "stream",
     "text": [
      "Training RMSE: 0.2185663401677531\n",
      "Validation RMSE: 0.5677297165251786\n",
      "Train R²: 0.9959510331650736\n",
      "Validation R²: 0.9728906165034132\n",
      "OOB R²: 0.9711285049801295\n",
      "14 VisibilityMax ['Frequency', 'Visibility', 'RelativeHumidity', 'ParticulateMax', 'SYNOPCode', 'Temperature', 'RainIntensityMin', 'RainIntensityMax', 'RainIntensity', 'Distance', 'AbsoluteHumidity']\n",
      "%%%%%%%%%%%%%%%%%%%%%%%%%%%%\n"
     ]
    },
    {
     "name": "stderr",
     "output_type": "stream",
     "text": [
      "c:\\Users\\nining\\.conda\\envs\\bigdata\\lib\\site-packages\\sklearn\\metrics\\_regression.py:483: FutureWarning: 'squared' is deprecated in version 1.4 and will be removed in 1.6. To calculate the root mean squared error, use the function'root_mean_squared_error'.\n",
      "  warnings.warn(\n",
      "c:\\Users\\nining\\.conda\\envs\\bigdata\\lib\\site-packages\\sklearn\\metrics\\_regression.py:483: FutureWarning: 'squared' is deprecated in version 1.4 and will be removed in 1.6. To calculate the root mean squared error, use the function'root_mean_squared_error'.\n",
      "  warnings.warn(\n"
     ]
    },
    {
     "name": "stdout",
     "output_type": "stream",
     "text": [
      "Training RMSE: 0.2175651727747799\n",
      "Validation RMSE: 0.5613610781165682\n",
      "Train R²: 0.995988041694113\n",
      "Validation R²: 0.97349541659138\n",
      "OOB R²: 0.9713225092372446\n",
      "15 Frequency ['RelativeHumidity', 'ParticulateMax', 'Visibility', 'SYNOPCode', 'Temperature', 'RainIntensityMin', 'RainIntensityMax', 'RainIntensity', 'Distance', 'AbsoluteHumidity']\n",
      "%%%%%%%%%%%%%%%%%%%%%%%%%%%%\n"
     ]
    },
    {
     "name": "stderr",
     "output_type": "stream",
     "text": [
      "c:\\Users\\nining\\.conda\\envs\\bigdata\\lib\\site-packages\\sklearn\\metrics\\_regression.py:483: FutureWarning: 'squared' is deprecated in version 1.4 and will be removed in 1.6. To calculate the root mean squared error, use the function'root_mean_squared_error'.\n",
      "  warnings.warn(\n",
      "c:\\Users\\nining\\.conda\\envs\\bigdata\\lib\\site-packages\\sklearn\\metrics\\_regression.py:483: FutureWarning: 'squared' is deprecated in version 1.4 and will be removed in 1.6. To calculate the root mean squared error, use the function'root_mean_squared_error'.\n",
      "  warnings.warn(\n"
     ]
    },
    {
     "name": "stdout",
     "output_type": "stream",
     "text": [
      "Training RMSE: 0.2856827592508816\n",
      "Validation RMSE: 0.718684221336\n",
      "Train R²: 0.9930825548735601\n",
      "Validation R²: 0.956557720303728\n",
      "OOB R²: 0.9533867034428859\n",
      "16 RelativeHumidity ['ParticulateMax', 'Visibility', 'SYNOPCode', 'Temperature', 'RainIntensityMin', 'RainIntensityMax', 'RainIntensity', 'Distance', 'AbsoluteHumidity']\n",
      "%%%%%%%%%%%%%%%%%%%%%%%%%%%%\n"
     ]
    },
    {
     "name": "stderr",
     "output_type": "stream",
     "text": [
      "c:\\Users\\nining\\.conda\\envs\\bigdata\\lib\\site-packages\\sklearn\\metrics\\_regression.py:483: FutureWarning: 'squared' is deprecated in version 1.4 and will be removed in 1.6. To calculate the root mean squared error, use the function'root_mean_squared_error'.\n",
      "  warnings.warn(\n",
      "c:\\Users\\nining\\.conda\\envs\\bigdata\\lib\\site-packages\\sklearn\\metrics\\_regression.py:483: FutureWarning: 'squared' is deprecated in version 1.4 and will be removed in 1.6. To calculate the root mean squared error, use the function'root_mean_squared_error'.\n",
      "  warnings.warn(\n"
     ]
    },
    {
     "name": "stdout",
     "output_type": "stream",
     "text": [
      "Training RMSE: 0.28968874631559327\n",
      "Validation RMSE: 0.7386816220472177\n",
      "Train R²: 0.9928871949161082\n",
      "Validation R²: 0.9541065215727956\n",
      "OOB R²: 0.9516954879719075\n",
      "17 ParticulateMax ['Visibility', 'SYNOPCode', 'Temperature', 'RainIntensityMin', 'RainIntensityMax', 'RainIntensity', 'Distance', 'AbsoluteHumidity']\n",
      "%%%%%%%%%%%%%%%%%%%%%%%%%%%%\n"
     ]
    },
    {
     "name": "stderr",
     "output_type": "stream",
     "text": [
      "c:\\Users\\nining\\.conda\\envs\\bigdata\\lib\\site-packages\\sklearn\\metrics\\_regression.py:483: FutureWarning: 'squared' is deprecated in version 1.4 and will be removed in 1.6. To calculate the root mean squared error, use the function'root_mean_squared_error'.\n",
      "  warnings.warn(\n",
      "c:\\Users\\nining\\.conda\\envs\\bigdata\\lib\\site-packages\\sklearn\\metrics\\_regression.py:483: FutureWarning: 'squared' is deprecated in version 1.4 and will be removed in 1.6. To calculate the root mean squared error, use the function'root_mean_squared_error'.\n",
      "  warnings.warn(\n"
     ]
    },
    {
     "name": "stdout",
     "output_type": "stream",
     "text": [
      "Training RMSE: 0.2896250397623651\n",
      "Validation RMSE: 0.7480778668626905\n",
      "Train R²: 0.9928903229801177\n",
      "Validation R²: 0.952931538987446\n",
      "OOB R²: 0.9515612055500636\n",
      "18 Visibility ['SYNOPCode', 'Temperature', 'RainIntensityMin', 'RainIntensityMax', 'RainIntensity', 'Distance', 'AbsoluteHumidity']\n",
      "%%%%%%%%%%%%%%%%%%%%%%%%%%%%\n"
     ]
    },
    {
     "name": "stderr",
     "output_type": "stream",
     "text": [
      "c:\\Users\\nining\\.conda\\envs\\bigdata\\lib\\site-packages\\sklearn\\metrics\\_regression.py:483: FutureWarning: 'squared' is deprecated in version 1.4 and will be removed in 1.6. To calculate the root mean squared error, use the function'root_mean_squared_error'.\n",
      "  warnings.warn(\n",
      "c:\\Users\\nining\\.conda\\envs\\bigdata\\lib\\site-packages\\sklearn\\metrics\\_regression.py:483: FutureWarning: 'squared' is deprecated in version 1.4 and will be removed in 1.6. To calculate the root mean squared error, use the function'root_mean_squared_error'.\n",
      "  warnings.warn(\n"
     ]
    },
    {
     "name": "stdout",
     "output_type": "stream",
     "text": [
      "Training RMSE: 0.3281633496458747\n",
      "Validation RMSE: 0.8320405661180007\n",
      "Train R²: 0.9908723745395418\n",
      "Validation R²: 0.9417728693870683\n",
      "OOB R²: 0.9384899665646851\n",
      "19 SYNOPCode ['Temperature', 'RainIntensityMin', 'RainIntensityMax', 'RainIntensity', 'Distance', 'AbsoluteHumidity']\n",
      "%%%%%%%%%%%%%%%%%%%%%%%%%%%%\n"
     ]
    },
    {
     "name": "stderr",
     "output_type": "stream",
     "text": [
      "c:\\Users\\nining\\.conda\\envs\\bigdata\\lib\\site-packages\\sklearn\\metrics\\_regression.py:483: FutureWarning: 'squared' is deprecated in version 1.4 and will be removed in 1.6. To calculate the root mean squared error, use the function'root_mean_squared_error'.\n",
      "  warnings.warn(\n",
      "c:\\Users\\nining\\.conda\\envs\\bigdata\\lib\\site-packages\\sklearn\\metrics\\_regression.py:483: FutureWarning: 'squared' is deprecated in version 1.4 and will be removed in 1.6. To calculate the root mean squared error, use the function'root_mean_squared_error'.\n",
      "  warnings.warn(\n"
     ]
    },
    {
     "name": "stdout",
     "output_type": "stream",
     "text": [
      "Training RMSE: 0.34107031208303173\n",
      "Validation RMSE: 0.8477415142880066\n",
      "Train R²: 0.9901402592401554\n",
      "Validation R²: 0.9395545952732042\n",
      "OOB R²: 0.9354675009995695\n",
      "20 Temperature ['RainIntensityMin', 'RainIntensityMax', 'RainIntensity', 'Distance', 'AbsoluteHumidity']\n",
      "%%%%%%%%%%%%%%%%%%%%%%%%%%%%\n"
     ]
    },
    {
     "name": "stderr",
     "output_type": "stream",
     "text": [
      "c:\\Users\\nining\\.conda\\envs\\bigdata\\lib\\site-packages\\sklearn\\metrics\\_regression.py:483: FutureWarning: 'squared' is deprecated in version 1.4 and will be removed in 1.6. To calculate the root mean squared error, use the function'root_mean_squared_error'.\n",
      "  warnings.warn(\n",
      "c:\\Users\\nining\\.conda\\envs\\bigdata\\lib\\site-packages\\sklearn\\metrics\\_regression.py:483: FutureWarning: 'squared' is deprecated in version 1.4 and will be removed in 1.6. To calculate the root mean squared error, use the function'root_mean_squared_error'.\n",
      "  warnings.warn(\n"
     ]
    },
    {
     "name": "stdout",
     "output_type": "stream",
     "text": [
      "Training RMSE: 0.4439437722837728\n",
      "Validation RMSE: 1.0458694289885113\n",
      "Train R²: 0.9832954956042883\n",
      "Validation R²: 0.9079992591457249\n",
      "OOB R²: 0.9049086040684401\n",
      "21 RainIntensityMin ['RainIntensityMax', 'RainIntensity', 'Distance', 'AbsoluteHumidity']\n",
      "%%%%%%%%%%%%%%%%%%%%%%%%%%%%\n"
     ]
    },
    {
     "name": "stderr",
     "output_type": "stream",
     "text": [
      "c:\\Users\\nining\\.conda\\envs\\bigdata\\lib\\site-packages\\sklearn\\metrics\\_regression.py:483: FutureWarning: 'squared' is deprecated in version 1.4 and will be removed in 1.6. To calculate the root mean squared error, use the function'root_mean_squared_error'.\n",
      "  warnings.warn(\n",
      "c:\\Users\\nining\\.conda\\envs\\bigdata\\lib\\site-packages\\sklearn\\metrics\\_regression.py:483: FutureWarning: 'squared' is deprecated in version 1.4 and will be removed in 1.6. To calculate the root mean squared error, use the function'root_mean_squared_error'.\n",
      "  warnings.warn(\n"
     ]
    },
    {
     "name": "stdout",
     "output_type": "stream",
     "text": [
      "Training RMSE: 0.44494459339023096\n",
      "Validation RMSE: 1.048694514104598\n",
      "Train R²: 0.9832200938697113\n",
      "Validation R²: 0.9075015661285559\n",
      "OOB R²: 0.90435445503785\n",
      "22 RainIntensityMax ['Distance', 'RainIntensity', 'AbsoluteHumidity']\n",
      "%%%%%%%%%%%%%%%%%%%%%%%%%%%%\n"
     ]
    },
    {
     "name": "stderr",
     "output_type": "stream",
     "text": [
      "c:\\Users\\nining\\.conda\\envs\\bigdata\\lib\\site-packages\\sklearn\\metrics\\_regression.py:483: FutureWarning: 'squared' is deprecated in version 1.4 and will be removed in 1.6. To calculate the root mean squared error, use the function'root_mean_squared_error'.\n",
      "  warnings.warn(\n",
      "c:\\Users\\nining\\.conda\\envs\\bigdata\\lib\\site-packages\\sklearn\\metrics\\_regression.py:483: FutureWarning: 'squared' is deprecated in version 1.4 and will be removed in 1.6. To calculate the root mean squared error, use the function'root_mean_squared_error'.\n",
      "  warnings.warn(\n"
     ]
    },
    {
     "name": "stdout",
     "output_type": "stream",
     "text": [
      "Training RMSE: 0.4438435030804184\n",
      "Validation RMSE: 1.0481162626255236\n",
      "Train R²: 0.9833030405156074\n",
      "Validation R²: 0.9076035455114576\n",
      "OOB R²: 0.9048315612201905\n",
      "23 Distance ['AbsoluteHumidity', 'RainIntensity']\n",
      "%%%%%%%%%%%%%%%%%%%%%%%%%%%%\n"
     ]
    },
    {
     "name": "stderr",
     "output_type": "stream",
     "text": [
      "c:\\Users\\nining\\.conda\\envs\\bigdata\\lib\\site-packages\\sklearn\\metrics\\_regression.py:483: FutureWarning: 'squared' is deprecated in version 1.4 and will be removed in 1.6. To calculate the root mean squared error, use the function'root_mean_squared_error'.\n",
      "  warnings.warn(\n",
      "c:\\Users\\nining\\.conda\\envs\\bigdata\\lib\\site-packages\\sklearn\\metrics\\_regression.py:483: FutureWarning: 'squared' is deprecated in version 1.4 and will be removed in 1.6. To calculate the root mean squared error, use the function'root_mean_squared_error'.\n",
      "  warnings.warn(\n"
     ]
    },
    {
     "name": "stdout",
     "output_type": "stream",
     "text": [
      "Training RMSE: 1.0220845830094385\n",
      "Validation RMSE: 2.079139106905602\n",
      "Train R²: 0.9114575909374801\n",
      "Validation R²: 0.6364170728760454\n",
      "OOB R²: 0.6356816302428753\n",
      "24 RainIntensity ['AbsoluteHumidity']\n",
      "%%%%%%%%%%%%%%%%%%%%%%%%%%%%\n"
     ]
    },
    {
     "name": "stderr",
     "output_type": "stream",
     "text": [
      "c:\\Users\\nining\\.conda\\envs\\bigdata\\lib\\site-packages\\sklearn\\metrics\\_regression.py:483: FutureWarning: 'squared' is deprecated in version 1.4 and will be removed in 1.6. To calculate the root mean squared error, use the function'root_mean_squared_error'.\n",
      "  warnings.warn(\n",
      "c:\\Users\\nining\\.conda\\envs\\bigdata\\lib\\site-packages\\sklearn\\metrics\\_regression.py:483: FutureWarning: 'squared' is deprecated in version 1.4 and will be removed in 1.6. To calculate the root mean squared error, use the function'root_mean_squared_error'.\n",
      "  warnings.warn(\n"
     ]
    },
    {
     "name": "stdout",
     "output_type": "stream",
     "text": [
      "Training RMSE: 1.6635093336228506\n",
      "Validation RMSE: 3.29407825464456\n",
      "Train R²: 0.7654539393976879\n",
      "Validation R²: 0.0873500979022992\n",
      "OOB R²: 0.07508022118604418\n",
      "25 AbsoluteHumidity []\n",
      "%%%%%%%%%%%%%%%%%%%%%%%%%%%%\n"
     ]
    },
    {
     "name": "stderr",
     "output_type": "stream",
     "text": [
      "c:\\Users\\nining\\.conda\\envs\\bigdata\\lib\\site-packages\\sklearn\\metrics\\_regression.py:483: FutureWarning: 'squared' is deprecated in version 1.4 and will be removed in 1.6. To calculate the root mean squared error, use the function'root_mean_squared_error'.\n",
      "  warnings.warn(\n",
      "c:\\Users\\nining\\.conda\\envs\\bigdata\\lib\\site-packages\\sklearn\\metrics\\_regression.py:483: FutureWarning: 'squared' is deprecated in version 1.4 and will be removed in 1.6. To calculate the root mean squared error, use the function'root_mean_squared_error'.\n",
      "  warnings.warn(\n"
     ]
    },
    {
     "name": "stdout",
     "output_type": "stream",
     "text": [
      "Training RMSE: 0.31078091224880167\n",
      "Validation RMSE: 0.8391369740590159\n",
      "Train R²: 0.9936396763169114\n",
      "Validation R²: 0.9541762691581451\n",
      "OOB R²: 0.9542247088805763\n",
      "1 RainIntensityMin ['RainIntensityMax', 'RainIntensity', 'SYNOPCode', 'WindDirection', 'WindSpeed', 'WindSpeedMin', 'AbsoluteHumidityMin', 'AbsoluteHumidityMax', 'WindSpeedMax', 'TemperatureDifference', 'Time', 'AbsoluteHumidity', 'TemperatureMax', 'ParticulateMax', 'RelativeHumidity', 'TemperatureMin', 'VisibilityMax', 'Particulate', 'VisibilityMin', 'ParticulateMin', 'Temperature', 'Visibility', 'Distance']\n",
      "%%%%%%%%%%%%%%%%%%%%%%%%%%%%\n"
     ]
    },
    {
     "name": "stderr",
     "output_type": "stream",
     "text": [
      "c:\\Users\\nining\\.conda\\envs\\bigdata\\lib\\site-packages\\sklearn\\metrics\\_regression.py:483: FutureWarning: 'squared' is deprecated in version 1.4 and will be removed in 1.6. To calculate the root mean squared error, use the function'root_mean_squared_error'.\n",
      "  warnings.warn(\n",
      "c:\\Users\\nining\\.conda\\envs\\bigdata\\lib\\site-packages\\sklearn\\metrics\\_regression.py:483: FutureWarning: 'squared' is deprecated in version 1.4 and will be removed in 1.6. To calculate the root mean squared error, use the function'root_mean_squared_error'.\n",
      "  warnings.warn(\n"
     ]
    },
    {
     "name": "stdout",
     "output_type": "stream",
     "text": [
      "Training RMSE: 0.31001200003605023\n",
      "Validation RMSE: 0.8395285664104902\n",
      "Train R²: 0.9936711099118433\n",
      "Validation R²: 0.9541334908990494\n",
      "OOB R²: 0.9544775107834224\n",
      "2 SYNOPCode ['RainIntensityMax', 'WindDirection', 'RainIntensity', 'WindSpeed', 'WindSpeedMin', 'AbsoluteHumidityMin', 'AbsoluteHumidityMax', 'WindSpeedMax', 'TemperatureDifference', 'Time', 'AbsoluteHumidity', 'TemperatureMax', 'ParticulateMax', 'RelativeHumidity', 'TemperatureMin', 'VisibilityMax', 'Particulate', 'VisibilityMin', 'ParticulateMin', 'Temperature', 'Visibility', 'Distance']\n",
      "%%%%%%%%%%%%%%%%%%%%%%%%%%%%\n"
     ]
    },
    {
     "name": "stderr",
     "output_type": "stream",
     "text": [
      "c:\\Users\\nining\\.conda\\envs\\bigdata\\lib\\site-packages\\sklearn\\metrics\\_regression.py:483: FutureWarning: 'squared' is deprecated in version 1.4 and will be removed in 1.6. To calculate the root mean squared error, use the function'root_mean_squared_error'.\n",
      "  warnings.warn(\n",
      "c:\\Users\\nining\\.conda\\envs\\bigdata\\lib\\site-packages\\sklearn\\metrics\\_regression.py:483: FutureWarning: 'squared' is deprecated in version 1.4 and will be removed in 1.6. To calculate the root mean squared error, use the function'root_mean_squared_error'.\n",
      "  warnings.warn(\n"
     ]
    },
    {
     "name": "stdout",
     "output_type": "stream",
     "text": [
      "Training RMSE: 0.3100285452678416\n",
      "Validation RMSE: 0.8402828867377785\n",
      "Train R²: 0.9936704343525248\n",
      "Validation R²: 0.9540510313263998\n",
      "OOB R²: 0.9544224841123892\n",
      "3 RainIntensityMax ['WindDirection', 'RainIntensity', 'WindSpeed', 'WindSpeedMin', 'AbsoluteHumidityMin', 'AbsoluteHumidityMax', 'WindSpeedMax', 'TemperatureDifference', 'Time', 'AbsoluteHumidity', 'TemperatureMax', 'RelativeHumidity', 'ParticulateMax', 'TemperatureMin', 'VisibilityMax', 'Particulate', 'VisibilityMin', 'ParticulateMin', 'Temperature', 'Visibility', 'Distance']\n",
      "%%%%%%%%%%%%%%%%%%%%%%%%%%%%\n"
     ]
    },
    {
     "name": "stderr",
     "output_type": "stream",
     "text": [
      "c:\\Users\\nining\\.conda\\envs\\bigdata\\lib\\site-packages\\sklearn\\metrics\\_regression.py:483: FutureWarning: 'squared' is deprecated in version 1.4 and will be removed in 1.6. To calculate the root mean squared error, use the function'root_mean_squared_error'.\n",
      "  warnings.warn(\n",
      "c:\\Users\\nining\\.conda\\envs\\bigdata\\lib\\site-packages\\sklearn\\metrics\\_regression.py:483: FutureWarning: 'squared' is deprecated in version 1.4 and will be removed in 1.6. To calculate the root mean squared error, use the function'root_mean_squared_error'.\n",
      "  warnings.warn(\n"
     ]
    },
    {
     "name": "stdout",
     "output_type": "stream",
     "text": [
      "Training RMSE: 0.30940720540500977\n",
      "Validation RMSE: 0.8401522756474556\n",
      "Train R²: 0.9936957795703346\n",
      "Validation R²: 0.9540653145602225\n",
      "OOB R²: 0.9546386672848834\n",
      "4 WindDirection ['RainIntensity', 'WindSpeed', 'WindSpeedMin', 'AbsoluteHumidityMin', 'AbsoluteHumidityMax', 'WindSpeedMax', 'TemperatureDifference', 'Time', 'AbsoluteHumidity', 'TemperatureMax', 'RelativeHumidity', 'ParticulateMax', 'TemperatureMin', 'VisibilityMax', 'Particulate', 'VisibilityMin', 'ParticulateMin', 'Temperature', 'Visibility', 'Distance']\n",
      "%%%%%%%%%%%%%%%%%%%%%%%%%%%%\n"
     ]
    },
    {
     "name": "stderr",
     "output_type": "stream",
     "text": [
      "c:\\Users\\nining\\.conda\\envs\\bigdata\\lib\\site-packages\\sklearn\\metrics\\_regression.py:483: FutureWarning: 'squared' is deprecated in version 1.4 and will be removed in 1.6. To calculate the root mean squared error, use the function'root_mean_squared_error'.\n",
      "  warnings.warn(\n",
      "c:\\Users\\nining\\.conda\\envs\\bigdata\\lib\\site-packages\\sklearn\\metrics\\_regression.py:483: FutureWarning: 'squared' is deprecated in version 1.4 and will be removed in 1.6. To calculate the root mean squared error, use the function'root_mean_squared_error'.\n",
      "  warnings.warn(\n"
     ]
    },
    {
     "name": "stdout",
     "output_type": "stream",
     "text": [
      "Training RMSE: 0.3060656648547617\n",
      "Validation RMSE: 0.8295684573027827\n",
      "Train R²: 0.993831213098854\n",
      "Validation R²: 0.9552153492684519\n",
      "OOB R²: 0.955591795304344\n",
      "5 RainIntensity ['WindSpeed', 'WindSpeedMin', 'AbsoluteHumidityMin', 'AbsoluteHumidityMax', 'WindSpeedMax', 'TemperatureDifference', 'Time', 'AbsoluteHumidity', 'TemperatureMax', 'ParticulateMax', 'RelativeHumidity', 'TemperatureMin', 'VisibilityMax', 'Particulate', 'VisibilityMin', 'ParticulateMin', 'Temperature', 'Visibility', 'Distance']\n",
      "%%%%%%%%%%%%%%%%%%%%%%%%%%%%\n"
     ]
    },
    {
     "name": "stderr",
     "output_type": "stream",
     "text": [
      "c:\\Users\\nining\\.conda\\envs\\bigdata\\lib\\site-packages\\sklearn\\metrics\\_regression.py:483: FutureWarning: 'squared' is deprecated in version 1.4 and will be removed in 1.6. To calculate the root mean squared error, use the function'root_mean_squared_error'.\n",
      "  warnings.warn(\n",
      "c:\\Users\\nining\\.conda\\envs\\bigdata\\lib\\site-packages\\sklearn\\metrics\\_regression.py:483: FutureWarning: 'squared' is deprecated in version 1.4 and will be removed in 1.6. To calculate the root mean squared error, use the function'root_mean_squared_error'.\n",
      "  warnings.warn(\n"
     ]
    },
    {
     "name": "stdout",
     "output_type": "stream",
     "text": [
      "Training RMSE: 0.3063444224259206\n",
      "Validation RMSE: 0.828683748249865\n",
      "Train R²: 0.9938199712031736\n",
      "Validation R²: 0.9553108212167768\n",
      "OOB R²: 0.9555752749716039\n",
      "6 WindSpeed ['WindSpeedMin', 'AbsoluteHumidityMin', 'AbsoluteHumidityMax', 'WindSpeedMax', 'TemperatureDifference', 'Time', 'TemperatureMax', 'AbsoluteHumidity', 'RelativeHumidity', 'ParticulateMax', 'TemperatureMin', 'VisibilityMax', 'Particulate', 'VisibilityMin', 'ParticulateMin', 'Temperature', 'Visibility', 'Distance']\n",
      "%%%%%%%%%%%%%%%%%%%%%%%%%%%%\n"
     ]
    },
    {
     "name": "stderr",
     "output_type": "stream",
     "text": [
      "c:\\Users\\nining\\.conda\\envs\\bigdata\\lib\\site-packages\\sklearn\\metrics\\_regression.py:483: FutureWarning: 'squared' is deprecated in version 1.4 and will be removed in 1.6. To calculate the root mean squared error, use the function'root_mean_squared_error'.\n",
      "  warnings.warn(\n",
      "c:\\Users\\nining\\.conda\\envs\\bigdata\\lib\\site-packages\\sklearn\\metrics\\_regression.py:483: FutureWarning: 'squared' is deprecated in version 1.4 and will be removed in 1.6. To calculate the root mean squared error, use the function'root_mean_squared_error'.\n",
      "  warnings.warn(\n"
     ]
    },
    {
     "name": "stdout",
     "output_type": "stream",
     "text": [
      "Training RMSE: 0.30632069729745803\n",
      "Validation RMSE: 0.8289076317443969\n",
      "Train R²: 0.9938209284022523\n",
      "Validation R²: 0.9552866708190619\n",
      "OOB R²: 0.9555853240943822\n",
      "7 AbsoluteHumidityMin ['AbsoluteHumidityMax', 'WindSpeedMin', 'WindSpeedMax', 'TemperatureDifference', 'Time', 'TemperatureMax', 'AbsoluteHumidity', 'RelativeHumidity', 'ParticulateMax', 'TemperatureMin', 'VisibilityMax', 'Particulate', 'VisibilityMin', 'ParticulateMin', 'Temperature', 'Visibility', 'Distance']\n",
      "%%%%%%%%%%%%%%%%%%%%%%%%%%%%\n"
     ]
    },
    {
     "name": "stderr",
     "output_type": "stream",
     "text": [
      "c:\\Users\\nining\\.conda\\envs\\bigdata\\lib\\site-packages\\sklearn\\metrics\\_regression.py:483: FutureWarning: 'squared' is deprecated in version 1.4 and will be removed in 1.6. To calculate the root mean squared error, use the function'root_mean_squared_error'.\n",
      "  warnings.warn(\n",
      "c:\\Users\\nining\\.conda\\envs\\bigdata\\lib\\site-packages\\sklearn\\metrics\\_regression.py:483: FutureWarning: 'squared' is deprecated in version 1.4 and will be removed in 1.6. To calculate the root mean squared error, use the function'root_mean_squared_error'.\n",
      "  warnings.warn(\n"
     ]
    },
    {
     "name": "stdout",
     "output_type": "stream",
     "text": [
      "Training RMSE: 0.30282969655473885\n",
      "Validation RMSE: 0.8201326638178941\n",
      "Train R²: 0.9939609661167261\n",
      "Validation R²: 0.9562283468937938\n",
      "OOB R²: 0.956582015475729\n",
      "8 WindSpeedMin ['WindSpeedMax', 'AbsoluteHumidityMax', 'TemperatureDifference', 'Time', 'TemperatureMax', 'ParticulateMax', 'RelativeHumidity', 'AbsoluteHumidity', 'TemperatureMin', 'VisibilityMax', 'Particulate', 'VisibilityMin', 'ParticulateMin', 'Temperature', 'Visibility', 'Distance']\n",
      "%%%%%%%%%%%%%%%%%%%%%%%%%%%%\n"
     ]
    },
    {
     "name": "stderr",
     "output_type": "stream",
     "text": [
      "c:\\Users\\nining\\.conda\\envs\\bigdata\\lib\\site-packages\\sklearn\\metrics\\_regression.py:483: FutureWarning: 'squared' is deprecated in version 1.4 and will be removed in 1.6. To calculate the root mean squared error, use the function'root_mean_squared_error'.\n",
      "  warnings.warn(\n",
      "c:\\Users\\nining\\.conda\\envs\\bigdata\\lib\\site-packages\\sklearn\\metrics\\_regression.py:483: FutureWarning: 'squared' is deprecated in version 1.4 and will be removed in 1.6. To calculate the root mean squared error, use the function'root_mean_squared_error'.\n",
      "  warnings.warn(\n"
     ]
    },
    {
     "name": "stdout",
     "output_type": "stream",
     "text": [
      "Training RMSE: 0.30829234034698555\n",
      "Validation RMSE: 0.8295921756972877\n",
      "Train R²: 0.9937411288224894\n",
      "Validation R²: 0.9552127883340538\n",
      "OOB R²: 0.9550470162808592\n",
      "9 AbsoluteHumidityMax ['WindSpeedMax', 'TemperatureDifference', 'Time', 'TemperatureMax', 'ParticulateMax', 'RelativeHumidity', 'AbsoluteHumidity', 'TemperatureMin', 'VisibilityMax', 'Particulate', 'VisibilityMin', 'ParticulateMin', 'Temperature', 'Visibility', 'Distance']\n",
      "%%%%%%%%%%%%%%%%%%%%%%%%%%%%\n"
     ]
    },
    {
     "name": "stderr",
     "output_type": "stream",
     "text": [
      "c:\\Users\\nining\\.conda\\envs\\bigdata\\lib\\site-packages\\sklearn\\metrics\\_regression.py:483: FutureWarning: 'squared' is deprecated in version 1.4 and will be removed in 1.6. To calculate the root mean squared error, use the function'root_mean_squared_error'.\n",
      "  warnings.warn(\n",
      "c:\\Users\\nining\\.conda\\envs\\bigdata\\lib\\site-packages\\sklearn\\metrics\\_regression.py:483: FutureWarning: 'squared' is deprecated in version 1.4 and will be removed in 1.6. To calculate the root mean squared error, use the function'root_mean_squared_error'.\n",
      "  warnings.warn(\n"
     ]
    },
    {
     "name": "stdout",
     "output_type": "stream",
     "text": [
      "Training RMSE: 0.3047041243729563\n",
      "Validation RMSE: 0.8196592347479348\n",
      "Train R²: 0.9938859750166833\n",
      "Validation R²: 0.9562788674808393\n",
      "OOB R²: 0.9560962674834084\n",
      "10 WindSpeedMax ['TemperatureDifference', 'Time', 'TemperatureMax', 'ParticulateMax', 'RelativeHumidity', 'AbsoluteHumidity', 'TemperatureMin', 'VisibilityMax', 'Particulate', 'VisibilityMin', 'ParticulateMin', 'Temperature', 'Visibility', 'Distance']\n",
      "%%%%%%%%%%%%%%%%%%%%%%%%%%%%\n"
     ]
    },
    {
     "name": "stderr",
     "output_type": "stream",
     "text": [
      "c:\\Users\\nining\\.conda\\envs\\bigdata\\lib\\site-packages\\sklearn\\metrics\\_regression.py:483: FutureWarning: 'squared' is deprecated in version 1.4 and will be removed in 1.6. To calculate the root mean squared error, use the function'root_mean_squared_error'.\n",
      "  warnings.warn(\n",
      "c:\\Users\\nining\\.conda\\envs\\bigdata\\lib\\site-packages\\sklearn\\metrics\\_regression.py:483: FutureWarning: 'squared' is deprecated in version 1.4 and will be removed in 1.6. To calculate the root mean squared error, use the function'root_mean_squared_error'.\n",
      "  warnings.warn(\n"
     ]
    },
    {
     "name": "stdout",
     "output_type": "stream",
     "text": [
      "Training RMSE: 0.31095420800694107\n",
      "Validation RMSE: 0.8395117918922127\n",
      "Train R²: 0.9936325811294207\n",
      "Validation R²: 0.9541353237870285\n",
      "OOB R²: 0.9542191443936021\n",
      "11 TemperatureDifference ['Time', 'TemperatureMax', 'ParticulateMax', 'RelativeHumidity', 'AbsoluteHumidity', 'TemperatureMin', 'VisibilityMax', 'Particulate', 'VisibilityMin', 'ParticulateMin', 'Temperature', 'Visibility', 'Distance']\n",
      "%%%%%%%%%%%%%%%%%%%%%%%%%%%%\n"
     ]
    },
    {
     "name": "stderr",
     "output_type": "stream",
     "text": [
      "c:\\Users\\nining\\.conda\\envs\\bigdata\\lib\\site-packages\\sklearn\\metrics\\_regression.py:483: FutureWarning: 'squared' is deprecated in version 1.4 and will be removed in 1.6. To calculate the root mean squared error, use the function'root_mean_squared_error'.\n",
      "  warnings.warn(\n",
      "c:\\Users\\nining\\.conda\\envs\\bigdata\\lib\\site-packages\\sklearn\\metrics\\_regression.py:483: FutureWarning: 'squared' is deprecated in version 1.4 and will be removed in 1.6. To calculate the root mean squared error, use the function'root_mean_squared_error'.\n",
      "  warnings.warn(\n"
     ]
    },
    {
     "name": "stdout",
     "output_type": "stream",
     "text": [
      "Training RMSE: 0.33771551265937216\n",
      "Validation RMSE: 0.9158554237961372\n",
      "Train R²: 0.9924894357860352\n",
      "Validation R²: 0.9454143389710598\n",
      "OOB R²: 0.9460509887194526\n",
      "12 ParticulateMax ['TemperatureMax', 'Time', 'RelativeHumidity', 'AbsoluteHumidity', 'TemperatureMin', 'Particulate', 'VisibilityMax', 'VisibilityMin', 'ParticulateMin', 'Temperature', 'Visibility', 'Distance']\n",
      "%%%%%%%%%%%%%%%%%%%%%%%%%%%%\n"
     ]
    },
    {
     "name": "stderr",
     "output_type": "stream",
     "text": [
      "c:\\Users\\nining\\.conda\\envs\\bigdata\\lib\\site-packages\\sklearn\\metrics\\_regression.py:483: FutureWarning: 'squared' is deprecated in version 1.4 and will be removed in 1.6. To calculate the root mean squared error, use the function'root_mean_squared_error'.\n",
      "  warnings.warn(\n",
      "c:\\Users\\nining\\.conda\\envs\\bigdata\\lib\\site-packages\\sklearn\\metrics\\_regression.py:483: FutureWarning: 'squared' is deprecated in version 1.4 and will be removed in 1.6. To calculate the root mean squared error, use the function'root_mean_squared_error'.\n",
      "  warnings.warn(\n"
     ]
    },
    {
     "name": "stdout",
     "output_type": "stream",
     "text": [
      "Training RMSE: 0.3373689592750425\n",
      "Validation RMSE: 0.9134135759558916\n",
      "Train R²: 0.9925048421022161\n",
      "Validation R²: 0.94570502282077\n",
      "OOB R²: 0.9461751774353369\n",
      "13 TemperatureMax ['Time', 'RelativeHumidity', 'AbsoluteHumidity', 'TemperatureMin', 'VisibilityMax', 'Particulate', 'VisibilityMin', 'ParticulateMin', 'Temperature', 'Visibility', 'Distance']\n",
      "%%%%%%%%%%%%%%%%%%%%%%%%%%%%\n"
     ]
    },
    {
     "name": "stderr",
     "output_type": "stream",
     "text": [
      "c:\\Users\\nining\\.conda\\envs\\bigdata\\lib\\site-packages\\sklearn\\metrics\\_regression.py:483: FutureWarning: 'squared' is deprecated in version 1.4 and will be removed in 1.6. To calculate the root mean squared error, use the function'root_mean_squared_error'.\n",
      "  warnings.warn(\n",
      "c:\\Users\\nining\\.conda\\envs\\bigdata\\lib\\site-packages\\sklearn\\metrics\\_regression.py:483: FutureWarning: 'squared' is deprecated in version 1.4 and will be removed in 1.6. To calculate the root mean squared error, use the function'root_mean_squared_error'.\n",
      "  warnings.warn(\n"
     ]
    },
    {
     "name": "stdout",
     "output_type": "stream",
     "text": [
      "Training RMSE: 0.3342837643924657\n",
      "Validation RMSE: 0.9072086407458662\n",
      "Train R²: 0.9926412997642494\n",
      "Validation R²: 0.9464401827371387\n",
      "OOB R²: 0.947117297916413\n",
      "14 Time ['RelativeHumidity', 'AbsoluteHumidity', 'VisibilityMax', 'TemperatureMin', 'Particulate', 'VisibilityMin', 'ParticulateMin', 'Temperature', 'Visibility', 'Distance']\n",
      "%%%%%%%%%%%%%%%%%%%%%%%%%%%%\n"
     ]
    },
    {
     "name": "stderr",
     "output_type": "stream",
     "text": [
      "c:\\Users\\nining\\.conda\\envs\\bigdata\\lib\\site-packages\\sklearn\\metrics\\_regression.py:483: FutureWarning: 'squared' is deprecated in version 1.4 and will be removed in 1.6. To calculate the root mean squared error, use the function'root_mean_squared_error'.\n",
      "  warnings.warn(\n",
      "c:\\Users\\nining\\.conda\\envs\\bigdata\\lib\\site-packages\\sklearn\\metrics\\_regression.py:483: FutureWarning: 'squared' is deprecated in version 1.4 and will be removed in 1.6. To calculate the root mean squared error, use the function'root_mean_squared_error'.\n",
      "  warnings.warn(\n"
     ]
    },
    {
     "name": "stdout",
     "output_type": "stream",
     "text": [
      "Training RMSE: 0.4138871531856909\n",
      "Validation RMSE: 1.1155839130864258\n",
      "Train R²: 0.9887193419079962\n",
      "Validation R²: 0.9190104069750938\n",
      "OOB R²: 0.9193630338316972\n",
      "15 RelativeHumidity ['AbsoluteHumidity', 'VisibilityMax', 'TemperatureMin', 'Particulate', 'VisibilityMin', 'ParticulateMin', 'Temperature', 'Visibility', 'Distance']\n",
      "%%%%%%%%%%%%%%%%%%%%%%%%%%%%\n"
     ]
    },
    {
     "name": "stderr",
     "output_type": "stream",
     "text": [
      "c:\\Users\\nining\\.conda\\envs\\bigdata\\lib\\site-packages\\sklearn\\metrics\\_regression.py:483: FutureWarning: 'squared' is deprecated in version 1.4 and will be removed in 1.6. To calculate the root mean squared error, use the function'root_mean_squared_error'.\n",
      "  warnings.warn(\n",
      "c:\\Users\\nining\\.conda\\envs\\bigdata\\lib\\site-packages\\sklearn\\metrics\\_regression.py:483: FutureWarning: 'squared' is deprecated in version 1.4 and will be removed in 1.6. To calculate the root mean squared error, use the function'root_mean_squared_error'.\n",
      "  warnings.warn(\n"
     ]
    },
    {
     "name": "stdout",
     "output_type": "stream",
     "text": [
      "Training RMSE: 0.417333317197254\n",
      "Validation RMSE: 1.119183167835409\n",
      "Train R²: 0.9885307067169097\n",
      "Validation R²: 0.9184869637509963\n",
      "OOB R²: 0.917966116888703\n",
      "16 VisibilityMax ['TemperatureMin', 'Particulate', 'AbsoluteHumidity', 'VisibilityMin', 'ParticulateMin', 'Temperature', 'Visibility', 'Distance']\n",
      "%%%%%%%%%%%%%%%%%%%%%%%%%%%%\n"
     ]
    },
    {
     "name": "stderr",
     "output_type": "stream",
     "text": [
      "c:\\Users\\nining\\.conda\\envs\\bigdata\\lib\\site-packages\\sklearn\\metrics\\_regression.py:483: FutureWarning: 'squared' is deprecated in version 1.4 and will be removed in 1.6. To calculate the root mean squared error, use the function'root_mean_squared_error'.\n",
      "  warnings.warn(\n",
      "c:\\Users\\nining\\.conda\\envs\\bigdata\\lib\\site-packages\\sklearn\\metrics\\_regression.py:483: FutureWarning: 'squared' is deprecated in version 1.4 and will be removed in 1.6. To calculate the root mean squared error, use the function'root_mean_squared_error'.\n",
      "  warnings.warn(\n"
     ]
    },
    {
     "name": "stdout",
     "output_type": "stream",
     "text": [
      "Training RMSE: 0.41552429371039074\n",
      "Validation RMSE: 1.1154002151597098\n",
      "Train R²: 0.9886299235836175\n",
      "Validation R²: 0.9190370771255614\n",
      "OOB R²: 0.9186434718755248\n",
      "17 TemperatureMin ['Particulate', 'AbsoluteHumidity', 'ParticulateMin', 'VisibilityMin', 'Temperature', 'Visibility', 'Distance']\n",
      "%%%%%%%%%%%%%%%%%%%%%%%%%%%%\n"
     ]
    },
    {
     "name": "stderr",
     "output_type": "stream",
     "text": [
      "c:\\Users\\nining\\.conda\\envs\\bigdata\\lib\\site-packages\\sklearn\\metrics\\_regression.py:483: FutureWarning: 'squared' is deprecated in version 1.4 and will be removed in 1.6. To calculate the root mean squared error, use the function'root_mean_squared_error'.\n",
      "  warnings.warn(\n",
      "c:\\Users\\nining\\.conda\\envs\\bigdata\\lib\\site-packages\\sklearn\\metrics\\_regression.py:483: FutureWarning: 'squared' is deprecated in version 1.4 and will be removed in 1.6. To calculate the root mean squared error, use the function'root_mean_squared_error'.\n",
      "  warnings.warn(\n"
     ]
    },
    {
     "name": "stdout",
     "output_type": "stream",
     "text": [
      "Training RMSE: 0.41198238779416635\n",
      "Validation RMSE: 1.1075829982015242\n",
      "Train R²: 0.9888229332559602\n",
      "Validation R²: 0.920167948156896\n",
      "OOB R²: 0.9199382768036283\n",
      "18 Particulate ['AbsoluteHumidity', 'ParticulateMin', 'VisibilityMin', 'Visibility', 'Temperature', 'Distance']\n",
      "%%%%%%%%%%%%%%%%%%%%%%%%%%%%\n"
     ]
    },
    {
     "name": "stderr",
     "output_type": "stream",
     "text": [
      "c:\\Users\\nining\\.conda\\envs\\bigdata\\lib\\site-packages\\sklearn\\metrics\\_regression.py:483: FutureWarning: 'squared' is deprecated in version 1.4 and will be removed in 1.6. To calculate the root mean squared error, use the function'root_mean_squared_error'.\n",
      "  warnings.warn(\n",
      "c:\\Users\\nining\\.conda\\envs\\bigdata\\lib\\site-packages\\sklearn\\metrics\\_regression.py:483: FutureWarning: 'squared' is deprecated in version 1.4 and will be removed in 1.6. To calculate the root mean squared error, use the function'root_mean_squared_error'.\n",
      "  warnings.warn(\n"
     ]
    },
    {
     "name": "stdout",
     "output_type": "stream",
     "text": [
      "Training RMSE: 0.41230445858910963\n",
      "Validation RMSE: 1.1098933559322814\n",
      "Train R²: 0.9888054508879361\n",
      "Validation R²: 0.9198345501813903\n",
      "OOB R²: 0.9198003055556687\n",
      "19 AbsoluteHumidity ['VisibilityMin', 'ParticulateMin', 'Visibility', 'Temperature', 'Distance']\n",
      "%%%%%%%%%%%%%%%%%%%%%%%%%%%%\n"
     ]
    },
    {
     "name": "stderr",
     "output_type": "stream",
     "text": [
      "c:\\Users\\nining\\.conda\\envs\\bigdata\\lib\\site-packages\\sklearn\\metrics\\_regression.py:483: FutureWarning: 'squared' is deprecated in version 1.4 and will be removed in 1.6. To calculate the root mean squared error, use the function'root_mean_squared_error'.\n",
      "  warnings.warn(\n",
      "c:\\Users\\nining\\.conda\\envs\\bigdata\\lib\\site-packages\\sklearn\\metrics\\_regression.py:483: FutureWarning: 'squared' is deprecated in version 1.4 and will be removed in 1.6. To calculate the root mean squared error, use the function'root_mean_squared_error'.\n",
      "  warnings.warn(\n"
     ]
    },
    {
     "name": "stdout",
     "output_type": "stream",
     "text": [
      "Training RMSE: 0.5092087518027633\n",
      "Validation RMSE: 1.3366292400748947\n",
      "Train R²: 0.9829249390670424\n",
      "Validation R²: 0.8837356292165847\n",
      "OOB R²: 0.8794656549404156\n",
      "20 VisibilityMin ['ParticulateMin', 'Visibility', 'Temperature', 'Distance']\n",
      "%%%%%%%%%%%%%%%%%%%%%%%%%%%%\n"
     ]
    },
    {
     "name": "stderr",
     "output_type": "stream",
     "text": [
      "c:\\Users\\nining\\.conda\\envs\\bigdata\\lib\\site-packages\\sklearn\\metrics\\_regression.py:483: FutureWarning: 'squared' is deprecated in version 1.4 and will be removed in 1.6. To calculate the root mean squared error, use the function'root_mean_squared_error'.\n",
      "  warnings.warn(\n",
      "c:\\Users\\nining\\.conda\\envs\\bigdata\\lib\\site-packages\\sklearn\\metrics\\_regression.py:483: FutureWarning: 'squared' is deprecated in version 1.4 and will be removed in 1.6. To calculate the root mean squared error, use the function'root_mean_squared_error'.\n",
      "  warnings.warn(\n"
     ]
    },
    {
     "name": "stdout",
     "output_type": "stream",
     "text": [
      "Training RMSE: 0.5054908689166415\n",
      "Validation RMSE: 1.3321193931468145\n",
      "Train R²: 0.9831733688997549\n",
      "Validation R²: 0.8845188680320435\n",
      "OOB R²: 0.8813012083888984\n",
      "21 ParticulateMin ['Temperature', 'Visibility', 'Distance']\n",
      "%%%%%%%%%%%%%%%%%%%%%%%%%%%%\n"
     ]
    },
    {
     "name": "stderr",
     "output_type": "stream",
     "text": [
      "c:\\Users\\nining\\.conda\\envs\\bigdata\\lib\\site-packages\\sklearn\\metrics\\_regression.py:483: FutureWarning: 'squared' is deprecated in version 1.4 and will be removed in 1.6. To calculate the root mean squared error, use the function'root_mean_squared_error'.\n",
      "  warnings.warn(\n",
      "c:\\Users\\nining\\.conda\\envs\\bigdata\\lib\\site-packages\\sklearn\\metrics\\_regression.py:483: FutureWarning: 'squared' is deprecated in version 1.4 and will be removed in 1.6. To calculate the root mean squared error, use the function'root_mean_squared_error'.\n",
      "  warnings.warn(\n"
     ]
    },
    {
     "name": "stdout",
     "output_type": "stream",
     "text": [
      "Training RMSE: 0.6907274458458199\n",
      "Validation RMSE: 1.8014882200576052\n",
      "Train R²: 0.9685816068862161\n",
      "Validation R²: 0.7888030783334661\n",
      "OOB R²: 0.7755951626819815\n",
      "22 Temperature ['Visibility', 'Distance']\n",
      "%%%%%%%%%%%%%%%%%%%%%%%%%%%%\n"
     ]
    },
    {
     "name": "stderr",
     "output_type": "stream",
     "text": [
      "c:\\Users\\nining\\.conda\\envs\\bigdata\\lib\\site-packages\\sklearn\\metrics\\_regression.py:483: FutureWarning: 'squared' is deprecated in version 1.4 and will be removed in 1.6. To calculate the root mean squared error, use the function'root_mean_squared_error'.\n",
      "  warnings.warn(\n",
      "c:\\Users\\nining\\.conda\\envs\\bigdata\\lib\\site-packages\\sklearn\\metrics\\_regression.py:483: FutureWarning: 'squared' is deprecated in version 1.4 and will be removed in 1.6. To calculate the root mean squared error, use the function'root_mean_squared_error'.\n",
      "  warnings.warn(\n"
     ]
    },
    {
     "name": "stdout",
     "output_type": "stream",
     "text": [
      "Training RMSE: 1.0967260775193117\n",
      "Validation RMSE: 2.5753216135191894\n",
      "Train R²: 0.9207923946371652\n",
      "Validation R²: 0.5683937987275629\n",
      "OOB R²: 0.5543332531038505\n",
      "23 Visibility ['Distance']\n",
      "%%%%%%%%%%%%%%%%%%%%%%%%%%%%\n",
      "Training RMSE: 2.4163844830684913\n",
      "Validation RMSE: 3.3505369178472133\n",
      "Train R²: 0.6154944436511963\n",
      "Validation R²: 0.2694439432186043\n",
      "OOB R²: 0.2683462752536413\n",
      "24 Distance []\n",
      "%%%%%%%%%%%%%%%%%%%%%%%%%%%%\n"
     ]
    },
    {
     "name": "stderr",
     "output_type": "stream",
     "text": [
      "c:\\Users\\nining\\.conda\\envs\\bigdata\\lib\\site-packages\\sklearn\\metrics\\_regression.py:483: FutureWarning: 'squared' is deprecated in version 1.4 and will be removed in 1.6. To calculate the root mean squared error, use the function'root_mean_squared_error'.\n",
      "  warnings.warn(\n",
      "c:\\Users\\nining\\.conda\\envs\\bigdata\\lib\\site-packages\\sklearn\\metrics\\_regression.py:483: FutureWarning: 'squared' is deprecated in version 1.4 and will be removed in 1.6. To calculate the root mean squared error, use the function'root_mean_squared_error'.\n",
      "  warnings.warn(\n"
     ]
    }
   ],
   "source": [
    "# define SYNOPCode value\n",
    "synop_codes = [0, 3, 4, 5, 6, 7,8]\n",
    "synop_codes = [9]\n",
    "\n",
    "# create empty list to store result\n",
    "performance_scores_list = []\n",
    "df_list = []\n",
    "rfl_rf_model = RandomForestRegressor(n_estimators=130, max_depth=25, \\\n",
    "                                        min_samples_leaf=1, random_state=25,\\\n",
    "                                        min_samples_split=2, oob_score=True, n_jobs=6)\n",
    "fso_rf_model = RandomForestRegressor(n_estimators = 130, max_depth=30, \\\n",
    "                                     min_samples_leaf = 1, random_state = 25,\\\n",
    "                                     min_samples_split =2, oob_score=True, n_jobs=6 )\n",
    "\n",
    "for code in synop_codes:\n",
    "    # Split the dataset into training and validation sets based on the values in the SYNOPCode column\n",
    "    Xtrain_rfl_s, Ytrain_rfl_s = ModelFunctions.filter_data_by_SYNOPCode(Xtrain_rfl, Ytrain_rfl, code)\n",
    "    Xval_rfl_s, Yval_rfl_s = ModelFunctions.filter_data_by_SYNOPCode(Xval_rfl, Yval_rfl, code)\n",
    "    Xtrain_fso_s, Ytrain_fso_s = ModelFunctions.filter_data_by_SYNOPCode(Xtrain_fso, Ytrain_fso, code)\n",
    "    Xval_fso_s, Yval_fso_s = ModelFunctions.filter_data_by_SYNOPCode(Xval_fso, Yval_fso, code)\n",
    "    # store metrics to DataFrame\n",
    "    performance_scores = ModelFunctions.wrapper_method (rfl_rf_model,Xtrain_rfl_s,Ytrain_rfl_s,Xval_rfl_s,Yval_rfl_s,channel = \"RFL\")\n",
    "    important_columns = [\"remove_feature\", \"train_rmse\", \"train_r2\",\"val_rmse\",\"val_r2\", \"oob_r2\",\"next_remove\",\"importance_score\"]\n",
    "    df = pd.DataFrame(performance_scores, columns=important_columns)\n",
    "    # write to csv\n",
    "    file_name = f\"rfl_synopcode{code}_130-25-1-2_feature_importance_wrapple.csv\"\n",
    "    df.to_csv(file_name, index=False)\n",
    "\n",
    "    performance_scores = ModelFunctions.wrapper_method (fso_rf_model,Xtrain_fso_s,Ytrain_fso_s,Xval_fso_s,Yval_fso_s,channel = \"FSO\")\n",
    "    df = pd.DataFrame(performance_scores, columns=important_columns)\n",
    "    file_name = f\"FSO_synopcode{code}_130-30-1-2_feature_importance_wrapple.csv\"\n",
    "    df.to_csv(file_name, index=False)\n",
    "\n"
   ]
  }
 ],
 "metadata": {
  "kernelspec": {
   "display_name": "bigdata",
   "language": "python",
   "name": "python3"
  },
  "language_info": {
   "codemirror_mode": {
    "name": "ipython",
    "version": 3
   },
   "file_extension": ".py",
   "mimetype": "text/x-python",
   "name": "python",
   "nbconvert_exporter": "python",
   "pygments_lexer": "ipython3",
   "version": "3.9.18"
  }
 },
 "nbformat": 4,
 "nbformat_minor": 2
}
